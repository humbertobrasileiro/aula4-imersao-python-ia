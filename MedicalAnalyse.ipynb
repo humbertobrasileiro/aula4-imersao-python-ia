{
  "nbformat": 4,
  "nbformat_minor": 0,
  "metadata": {
    "colab": {
      "provenance": [],
      "authorship_tag": "ABX9TyNeZk65CP9qYq0KJTeXEHH/",
      "include_colab_link": true
    },
    "kernelspec": {
      "name": "python3",
      "display_name": "Python 3"
    },
    "language_info": {
      "name": "python"
    }
  },
  "cells": [
    {
      "cell_type": "markdown",
      "metadata": {
        "id": "view-in-github",
        "colab_type": "text"
      },
      "source": [
        "<a href=\"https://colab.research.google.com/github/humbertobrasileiro/aula4-imersao-python-ia/blob/main/MedicalAnalyse.ipynb\" target=\"_parent\"><img src=\"https://colab.research.google.com/assets/colab-badge.svg\" alt=\"Open In Colab\"/></a>"
      ]
    },
    {
      "cell_type": "markdown",
      "source": [
        "Instalando o SDK do Google"
      ],
      "metadata": {
        "id": "79scIJo9sLcQ"
      }
    },
    {
      "cell_type": "code",
      "execution_count": 1,
      "metadata": {
        "id": "ZjoBBRt8qp84"
      },
      "outputs": [],
      "source": [
        "!pip install -q -U google-generativeai"
      ]
    },
    {
      "cell_type": "markdown",
      "source": [
        "Importando o Python SDK"
      ],
      "metadata": {
        "id": "PdCgOFN7sUg3"
      }
    },
    {
      "cell_type": "code",
      "execution_count": 2,
      "metadata": {
        "id": "HTiaTu6O1LRC"
      },
      "outputs": [],
      "source": [
        "import google.generativeai as genai\n",
        "from datetime import datetime, date\n",
        "from google.colab import userdata\n",
        "\n",
        "api_key = userdata.get('SECRET_KEY')\n",
        "\n",
        "genai.configure(api_key=api_key)"
      ]
    },
    {
      "cell_type": "markdown",
      "source": [
        "Configurando o generation"
      ],
      "metadata": {
        "id": "_jbrqHjrs7Qw"
      }
    },
    {
      "cell_type": "code",
      "source": [
        "generation_config = {\n",
        "    \"candidate_count\": 1,\n",
        "    \"temperature\": 0.5,\n",
        "}"
      ],
      "metadata": {
        "id": "aEkNzmxRcUfc"
      },
      "execution_count": 3,
      "outputs": []
    },
    {
      "cell_type": "markdown",
      "source": [
        "Setando dados de segurança"
      ],
      "metadata": {
        "id": "UL33JP0JtD54"
      }
    },
    {
      "cell_type": "code",
      "source": [
        "safety_settings = {\n",
        "    \"HARASSMENT\": \"BLOCK_NONE\",\n",
        "    \"HATE\": \"BLOCK_NONE\",\n",
        "    \"SEXUAL\": \"BLOCK_NONE\",\n",
        "    \"DANGEROUS\": \"BLOCK_NONE\"\n",
        "}"
      ],
      "metadata": {
        "id": "s-m5KajXc94M"
      },
      "execution_count": 4,
      "outputs": []
    },
    {
      "cell_type": "markdown",
      "source": [
        "Setar o modelo gemini-1.0-pro em sua versão estável"
      ],
      "metadata": {
        "id": "lev1V1FMsphX"
      }
    },
    {
      "cell_type": "code",
      "execution_count": 5,
      "metadata": {
        "id": "s-JqXcDe2hZ_"
      },
      "outputs": [],
      "source": [
        "model = genai.GenerativeModel(\n",
        "    model_name=\"gemini-1.0-pro\",\n",
        "    generation_config=generation_config,\n",
        "    safety_settings=safety_settings\n",
        ")"
      ]
    },
    {
      "cell_type": "markdown",
      "source": [
        "Inicializando a variável para guardar histórico"
      ],
      "metadata": {
        "id": "5i8bXY4otur5"
      }
    },
    {
      "cell_type": "code",
      "source": [
        "chat = model.start_chat(history=[])"
      ],
      "metadata": {
        "id": "ultYnx-Zh1Sn"
      },
      "execution_count": 6,
      "outputs": []
    },
    {
      "cell_type": "markdown",
      "source": [
        "Estilizando a apresentação"
      ],
      "metadata": {
        "id": "5XwtO4fCuHoh"
      }
    },
    {
      "cell_type": "code",
      "source": [
        "import textwrap\n",
        "from IPython.display import display\n",
        "from IPython.display import Markdown\n",
        "\n",
        "def to_markdown(text):\n",
        "  text = text.replace('•', '  *')\n",
        "  return Markdown(textwrap.indent(text, '> ', predicate=lambda _: True))"
      ],
      "metadata": {
        "id": "gtWCzIGBuNNY"
      },
      "execution_count": 7,
      "outputs": []
    },
    {
      "cell_type": "markdown",
      "source": [
        "Calculo da idade"
      ],
      "metadata": {
        "id": "ONZg7nzA17Si"
      }
    },
    {
      "cell_type": "code",
      "source": [
        "def calcular_idade(data_nascimento_str):\n",
        "  \"\"\"\n",
        "  Calcula a idade da pessoa com base na data de nascimento em formato brasileiro.\n",
        "\n",
        "  Args:\n",
        "      data_nascimento_str: A data de nascimento no formato DD/MM/AAAA.\n",
        "\n",
        "  Returns:\n",
        "      A idade da pessoa em anos.\n",
        "  \"\"\"\n",
        "  # Converter a data de nascimento para o formato datetime\n",
        "  formato_data = \"%d/%m/%Y\"\n",
        "  data_nascimento = datetime.strptime(data_nascimento_str, formato_data).date()\n",
        "\n",
        "  hoje = date.today()\n",
        "  idade = hoje.year - data_nascimento.year\n",
        "\n",
        "  # Ajusta a idade se o aniversário ainda não ocorreu neste ano\n",
        "  if (hoje.month, hoje.day) < (data_nascimento.month, data_nascimento.day):\n",
        "      idade -= 1\n",
        "\n",
        "  return idade"
      ],
      "metadata": {
        "id": "Zz8PV8gf166B"
      },
      "execution_count": 8,
      "outputs": []
    },
    {
      "cell_type": "markdown",
      "source": [
        "Inicializando a aplicação"
      ],
      "metadata": {
        "id": "lEwEq-s1uSI5"
      }
    },
    {
      "cell_type": "code",
      "source": [
        "flag = 'Sim'\n",
        "\n",
        "while flag.lower() == 'sim':\n",
        "    userName = input(\"Informe o seu nome: \")\n",
        "    dataNasc = input(\"Informe a sua data de nascimento\")\n",
        "\n",
        "    idade = idade = calcular_idade(dataNasc)\n",
        "\n",
        "    print(f\"Tudo bem {userName}, você está com {idade} anos de idade\", \"\\n\")\n",
        "    print(\"Vamos coletar os resultados do exame\", \"\\n\")\n",
        "\n",
        "    #Informando os dados do exame\n",
        "\n",
        "    triglicerides = input(\"Qual foi o resultado do Triglicérides (mg/dl)? \")\n",
        "    colesterol_total = input(\"Qual foi o resultado do Colesterol Total (mg/dl)? \")\n",
        "    colesterol_hdl = input(\"Qual foi o resultado do Colesterol HDL (mg/dl)? \")\n",
        "    colesterol_ldl = input(\"Qual foi o resultado do Colesterol LDL (mg/dl)? \")\n",
        "    ureia = input(\"Qual foi o resultado da Uréia (mg/dl)? \")\n",
        "\n",
        "    #Preparando as perguntas para ao Google AI de acordo com os dados informados\n",
        "\n",
        "    pergunta1 = \"Meu nome é \" + userName + \", tenho \" + str(idade) + \" de idade, fiz exame de laboratório de bioquímica, \"\n",
        "    pergunta1 += \"o resultado do exame de triglicérides foi de \" + triglicerides + \" mg/dl, preciso dos \"\n",
        "    pergunta1 += \"valores de referência e qual o laudo de acordo com o valor obtido no meu exame.\"\n",
        "\n",
        "    pergunta2 = \"O resultado do exame de colesterol total foi de \" + colesterol_total\n",
        "    pergunta2 += \" mg/dl, preciso dos valores de referência e qual o laudo de acordo com o valor obtido no meu exame.\"\n",
        "\n",
        "    pergunta3 = \"O resultado do exame de colesterol HDL foi de \" + colesterol_hdl\n",
        "    pergunta3 += \" mg/dl, preciso dos valores de referência e qual o laudo de acordo com o valor obtido no meu exame.\"\n",
        "\n",
        "    pergunta4 = \"O resultado do exame de colesterol LDL foi de \" + colesterol_ldl\n",
        "    pergunta4 += \" mg/dl, preciso dos valores de referência e qual o laudo de acordo com o valor obtido no meu exame.\"\n",
        "\n",
        "    pergunta5 = \"O resultado do exame de uréia foi de \" + ureia\n",
        "    pergunta5 += \" mg/dl, preciso dos valores de referência e qual o laudo de acordo com o valor obtido no meu exame.\"\n",
        "\n",
        "\n",
        "    #Realizando a pesquisa no Google AI\n",
        "\n",
        "    print(\"Realizando a consulta, aguarde...\", \"\\n\")\n",
        "\n",
        "    resposta1 = chat.send_message(pergunta1)\n",
        "    resposta2 = chat.send_message(pergunta2)\n",
        "    resposta3 = chat.send_message(pergunta3)\n",
        "    resposta4 = chat.send_message(pergunta4)\n",
        "    resposta5 = chat.send_message(pergunta5)\n",
        "\n",
        "    #Informando ao usuário a resposta do Google AI\n",
        "\n",
        "    print(\"Resposta da consulta\", \"\\n\")\n",
        "\n",
        "    print('---------------------------------------------', '\\n')\n",
        "\n",
        "    print(\"--------------- Triglicérides ---------------\", \"\\n\")\n",
        "    print(resposta1.text, \"\\n\")\n",
        "\n",
        "    print(\"------------- Colesterol Total --------------\", \"\\n\")\n",
        "    print(resposta2.text, \"\\n\")\n",
        "\n",
        "    print(\"--------------- Colesterol HDL --------------\", \"\\n\")\n",
        "    print(resposta3.text, \"\\n\")\n",
        "\n",
        "    print(\"--------------- Colesterol LDL --------------\", \"\\n\")\n",
        "    print(resposta4.text, \"\\n\")\n",
        "\n",
        "    print(\"------------------- URÉIA -------------------\", \"\\n\")\n",
        "    print(resposta5.text, \"\\n\")\n",
        "\n",
        "    print('---------------------------------------------', '\\n')\n",
        "\n",
        "    resumo = chat.send_message(\"De acordo com o exame e os dados fornecidos, qual a sua opinião sobre o conjunto de dados, gostaria de um resumo?\")\n",
        "\n",
        "    print('--------- Resumo final da Análise -----------', '\\n')\n",
        "\n",
        "    print(resumo.text, \"\\n\")\n",
        "\n",
        "    print('------ Este é o final da Análise ------------', '\\n')\n",
        "\n",
        "    while True:\n",
        "        flag = input(\"Deseja iniciar uma nova análise (Sim/Não)? \")\n",
        "        if flag.lower() in ('sim', 'não'):\n",
        "            break\n",
        "        else:\n",
        "            print(\"Opção inválida. Por favor, digite 'Sim' ou 'Não'.\")\n",
        "\n",
        "    # Opcional: Converter a resposta para minúscula para padronização\n",
        "    flag = flag.lower()"
      ],
      "metadata": {
        "colab": {
          "base_uri": "https://localhost:8080/",
          "height": 1000
        },
        "id": "jtzduRUZuWhQ",
        "outputId": "fa187788-2807-40ad-d321-84ff2e61190d"
      },
      "execution_count": 9,
      "outputs": [
        {
          "name": "stdout",
          "output_type": "stream",
          "text": [
            "Informe o seu nome: Carlos Humberto Brasileiro Toscano\n",
            "Informe a sua data de nascimento29/09/1967\n",
            "Tudo bem Carlos Humberto Brasileiro Toscano, você está com 56 anos de idade \n",
            "\n",
            "Vamos coletar os resultados do exame \n",
            "\n",
            "Qual foi o resultado do Triglicérides (mg/dl)? 335\n",
            "Qual foi o resultado do Colesterol Total (mg/dl)? 215\n",
            "Qual foi o resultado do Colesterol HDL (mg/dl)? 52\n",
            "Qual foi o resultado do Colesterol LDL (mg/dl)? 96\n",
            "Qual foi o resultado da Uréia (mg/dl)? 30\n",
            "Realizando a consulta, aguarde... \n",
            "\n",
            "Resposta da consulta \n",
            "\n",
            "--------------------------------------------- \n",
            "\n",
            "--------------- Triglicérides --------------- \n",
            "\n",
            "**Valores de Referência para Triglicérides:**\n",
            "\n",
            "* Desejável: < 150 mg/dl\n",
            "* Limítrofe: 150-199 mg/dl\n",
            "* Alto: 200-499 mg/dl\n",
            "* Muito alto: ≥ 500 mg/dl\n",
            "\n",
            "**Laudo de Acordo com o Valor Obtido:**\n",
            "\n",
            "Com base no valor obtido no seu exame (335 mg/dl), o seu nível de triglicérides é considerado **alto**.\n",
            "\n",
            "**Recomendações:**\n",
            "\n",
            "* Adotar uma dieta saudável, rica em frutas, vegetais e grãos integrais.\n",
            "* Reduzir o consumo de alimentos processados, açúcares adicionados e gorduras saturadas.\n",
            "* Praticar atividade física regular.\n",
            "* Manter um peso saudável.\n",
            "* Evitar o consumo excessivo de álcool.\n",
            "* Consultar um médico para discutir outras opções de tratamento, como medicamentos, se necessário. \n",
            "\n",
            "------------- Colesterol Total -------------- \n",
            "\n",
            "**Valores de Referência para Colesterol Total:**\n",
            "\n",
            "* Desejável: < 200 mg/dl\n",
            "* Limítrofe: 200-239 mg/dl\n",
            "* Alto: 240-299 mg/dl\n",
            "* Muito alto: ≥ 300 mg/dl\n",
            "\n",
            "**Laudo de Acordo com o Valor Obtido:**\n",
            "\n",
            "Com base no valor obtido no seu exame (215 mg/dl), o seu nível de colesterol total é considerado **limítrofe**.\n",
            "\n",
            "**Recomendações:**\n",
            "\n",
            "* Adotar as mesmas recomendações listadas na resposta anterior para triglicérides altos.\n",
            "* Monitorar regularmente os níveis de colesterol.\n",
            "* Consultar um médico para discutir outras opções de tratamento, como medicamentos, se necessário.\n",
            "\n",
            "É importante observar que o colesterol total é apenas um componente do perfil lipídico. Outros componentes importantes incluem colesterol LDL (\"ruim\") e colesterol HDL (\"bom\"). Um médico pode avaliar seu perfil lipídico completo para determinar seu risco geral de doença cardiovascular. \n",
            "\n",
            "--------------- Colesterol HDL -------------- \n",
            "\n",
            "**Valores de Referência para Colesterol HDL:**\n",
            "\n",
            "* Baixo: < 40 mg/dl\n",
            "* Normal: 40-59 mg/dl\n",
            "* Ideal: ≥ 60 mg/dl\n",
            "\n",
            "**Laudo de Acordo com o Valor Obtido:**\n",
            "\n",
            "Com base no valor obtido no seu exame (52 mg/dl), o seu nível de colesterol HDL é considerado **normal**.\n",
            "\n",
            "**Recomendações:**\n",
            "\n",
            "* Manter os níveis de colesterol HDL dentro da faixa normal.\n",
            "* Adotar um estilo de vida saudável, conforme recomendado nas respostas anteriores.\n",
            "* Evitar o tabagismo.\n",
            "* Consultar um médico para discutir outras opções de tratamento, como medicamentos, se necessário.\n",
            "\n",
            "**Observação:**\n",
            "\n",
            "Embora o seu nível de colesterol HDL esteja dentro da faixa normal, é importante observar que níveis mais altos de colesterol HDL estão associados a um menor risco de doença cardiovascular. Portanto, é benéfico manter os níveis de colesterol HDL tão altos quanto possível dentro da faixa normal. \n",
            "\n",
            "--------------- Colesterol LDL -------------- \n",
            "\n",
            "**Valores de Referência para Colesterol LDL:**\n",
            "\n",
            "* Ideal: < 70 mg/dl\n",
            "* Quase ideal: 70-99 mg/dl\n",
            "* Limítrofe: 100-129 mg/dl\n",
            "* Alto: 130-159 mg/dl\n",
            "* Muito alto: ≥ 160 mg/dl\n",
            "\n",
            "**Laudo de Acordo com o Valor Obtido:**\n",
            "\n",
            "Com base no valor obtido no seu exame (96 mg/dl), o seu nível de colesterol LDL é considerado **quase ideal**.\n",
            "\n",
            "**Recomendações:**\n",
            "\n",
            "* Manter os níveis de colesterol LDL dentro da faixa ideal.\n",
            "* Adotar um estilo de vida saudável, conforme recomendado nas respostas anteriores.\n",
            "* Evitar o tabagismo.\n",
            "* Consultar um médico para discutir outras opções de tratamento, como medicamentos, se necessário.\n",
            "\n",
            "**Observação:**\n",
            "\n",
            "O seu nível de colesterol LDL está dentro da faixa quase ideal, o que é benéfico para a saúde do coração. No entanto, é importante continuar a manter um estilo de vida saudável e monitorar regularmente os níveis de colesterol para garantir que permaneçam dentro da faixa ideal. \n",
            "\n",
            "------------------- URÉIA ------------------- \n",
            "\n",
            "**Valores de Referência para Ureia:**\n",
            "\n",
            "* 10-50 mg/dl\n",
            "\n",
            "**Laudo de Acordo com o Valor Obtido:**\n",
            "\n",
            "Com base no valor obtido no seu exame (30 mg/dl), o seu nível de ureia está **dentro da faixa normal**.\n",
            "\n",
            "**Recomendações:**\n",
            "\n",
            "* Continuar a manter uma dieta saudável e equilibrada.\n",
            "* Beber bastante líquido para manter a hidratação.\n",
            "* Consultar um médico se notar quaisquer sintomas incomuns, como fadiga, náuseas ou inchaço.\n",
            "\n",
            "**Observação:**\n",
            "\n",
            "A ureia é um produto residual do metabolismo das proteínas. Níveis elevados de ureia podem indicar problemas renais ou desidratação. No entanto, o seu nível de ureia está dentro da faixa normal, o que sugere que seus rins estão funcionando adequadamente e que você está bem hidratado. \n",
            "\n",
            "--------------------------------------------- \n",
            "\n",
            "--------- Resumo final da Análise ----------- \n",
            "\n",
            "**Resumo do Conjunto de Dados:**\n",
            "\n",
            "* Triglicérides: 335 mg/dl (alto)\n",
            "* Colesterol total: 215 mg/dl (limítrofe)\n",
            "* Colesterol HDL: 52 mg/dl (normal)\n",
            "* Colesterol LDL: 96 mg/dl (quase ideal)\n",
            "* Ureia: 30 mg/dl (dentro da faixa normal)\n",
            "\n",
            "**Opinião:**\n",
            "\n",
            "O conjunto de dados indica que você tem níveis elevados de triglicérides, que podem aumentar o risco de doença cardíaca. No entanto, seus níveis de colesterol total, colesterol HDL e colesterol LDL estão dentro das faixas desejáveis. Seus níveis de ureia também estão dentro da faixa normal, sugerindo que seus rins estão funcionando adequadamente.\n",
            "\n",
            "**Recomendações:**\n",
            "\n",
            "* Adotar um estilo de vida saudável, incluindo uma dieta saudável, atividade física regular e manutenção de um peso saudável.\n",
            "* Reduzir o consumo de alimentos processados, açúcares adicionados e gorduras saturadas.\n",
            "* Monitorar regularmente seus níveis de lipídios (colesterol e triglicérides).\n",
            "* Consultar um médico para discutir opções de tratamento adicionais, como medicamentos, se necessário.\n",
            "\n",
            "**Observação:**\n",
            "\n",
            "Embora seus níveis de colesterol total e LDL estejam dentro das faixas desejáveis, é importante observar que o colesterol LDL é o tipo de colesterol \"ruim\" que pode se acumular nas artérias e aumentar o risco de doença cardíaca. Portanto, é benéfico manter os níveis de colesterol LDL tão baixos quanto possível dentro da faixa desejável. \n",
            "\n",
            "------ Este é o final da Análise ------------ \n",
            "\n",
            "Deseja iniciar uma nova análise (Sim/Não)? Não\n"
          ]
        }
      ]
    }
  ]
}