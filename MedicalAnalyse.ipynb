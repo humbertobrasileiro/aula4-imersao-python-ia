{
  "nbformat": 4,
  "nbformat_minor": 0,
  "metadata": {
    "colab": {
      "provenance": [],
      "authorship_tag": "ABX9TyNeZk65CP9qYq0KJTeXEHH/",
      "include_colab_link": true
    },
    "kernelspec": {
      "name": "python3",
      "display_name": "Python 3"
    },
    "language_info": {
      "name": "python"
    }
  },
  "cells": [
    {
      "cell_type": "markdown",
      "metadata": {
        "id": "view-in-github",
        "colab_type": "text"
      },
      "source": [
        "<a href=\"https://colab.research.google.com/github/humbertobrasileiro/aula4-imersao-python-ia/blob/main/MedicalAnalyse.ipynb\" target=\"_parent\"><img src=\"https://colab.research.google.com/assets/colab-badge.svg\" alt=\"Open In Colab\"/></a>"
      ]
    },
    {
      "cell_type": "markdown",
      "source": [
        "Instalando o SDK do Google"
      ],
      "metadata": {
        "id": "79scIJo9sLcQ"
      }
    },
    {
      "cell_type": "code",
      "execution_count": null,
      "metadata": {
        "id": "ZjoBBRt8qp84"
      },
      "outputs": [],
      "source": [
        "!pip install -q -U google-generativeai"
      ]
    },
    {
      "cell_type": "markdown",
      "source": [
        "Importando o Python SDK"
      ],
      "metadata": {
        "id": "PdCgOFN7sUg3"
      }
    },
    {
      "cell_type": "code",
      "execution_count": 37,
      "metadata": {
        "id": "HTiaTu6O1LRC"
      },
      "outputs": [],
      "source": [
        "import google.generativeai as genai\n",
        "from datetime import datetime, date\n",
        "from google.colab import userdata\n",
        "\n",
        "api_key = userdata.get('SECRET_KEY')\n",
        "\n",
        "genai.configure(api_key=api_key)"
      ]
    },
    {
      "cell_type": "markdown",
      "source": [
        "Configurando o generation"
      ],
      "metadata": {
        "id": "_jbrqHjrs7Qw"
      }
    },
    {
      "cell_type": "code",
      "source": [
        "generation_config = {\n",
        "    \"candidate_count\": 1,\n",
        "    \"temperature\": 0.5,\n",
        "}"
      ],
      "metadata": {
        "id": "aEkNzmxRcUfc"
      },
      "execution_count": null,
      "outputs": []
    },
    {
      "cell_type": "markdown",
      "source": [
        "Setando dados de segurança"
      ],
      "metadata": {
        "id": "UL33JP0JtD54"
      }
    },
    {
      "cell_type": "code",
      "source": [
        "safety_settings = {\n",
        "    \"HARASSMENT\": \"BLOCK_NONE\",\n",
        "    \"HATE\": \"BLOCK_NONE\",\n",
        "    \"SEXUAL\": \"BLOCK_NONE\",\n",
        "    \"DANGEROUS\": \"BLOCK_NONE\"\n",
        "}"
      ],
      "metadata": {
        "id": "s-m5KajXc94M"
      },
      "execution_count": null,
      "outputs": []
    },
    {
      "cell_type": "markdown",
      "source": [
        "Setar o modelo gemini-1.0-pro em sua versão estável"
      ],
      "metadata": {
        "id": "lev1V1FMsphX"
      }
    },
    {
      "cell_type": "code",
      "execution_count": null,
      "metadata": {
        "id": "s-JqXcDe2hZ_"
      },
      "outputs": [],
      "source": [
        "model = genai.GenerativeModel(\n",
        "    model_name=\"gemini-1.0-pro\",\n",
        "    generation_config=generation_config,\n",
        "    safety_settings=safety_settings\n",
        ")"
      ]
    },
    {
      "cell_type": "markdown",
      "source": [
        "Inicializando a variável para guardar histórico"
      ],
      "metadata": {
        "id": "5i8bXY4otur5"
      }
    },
    {
      "cell_type": "code",
      "source": [
        "chat = model.start_chat(history=[])"
      ],
      "metadata": {
        "id": "ultYnx-Zh1Sn"
      },
      "execution_count": null,
      "outputs": []
    },
    {
      "cell_type": "markdown",
      "source": [
        "Estilizando a apresentação"
      ],
      "metadata": {
        "id": "5XwtO4fCuHoh"
      }
    },
    {
      "cell_type": "code",
      "source": [
        "import textwrap\n",
        "from IPython.display import display\n",
        "from IPython.display import Markdown\n",
        "\n",
        "def to_markdown(text):\n",
        "  text = text.replace('•', '  *')\n",
        "  return Markdown(textwrap.indent(text, '> ', predicate=lambda _: True))"
      ],
      "metadata": {
        "id": "gtWCzIGBuNNY"
      },
      "execution_count": null,
      "outputs": []
    },
    {
      "cell_type": "markdown",
      "source": [
        "Calculo da idade"
      ],
      "metadata": {
        "id": "ONZg7nzA17Si"
      }
    },
    {
      "cell_type": "code",
      "source": [
        "def calcular_idade(data_nascimento_str):\n",
        "  \"\"\"\n",
        "  Calcula a idade da pessoa com base na data de nascimento em formato brasileiro.\n",
        "\n",
        "  Args:\n",
        "      data_nascimento_str: A data de nascimento no formato DD/MM/AAAA.\n",
        "\n",
        "  Returns:\n",
        "      A idade da pessoa em anos.\n",
        "  \"\"\"\n",
        "  # Converter a data de nascimento para o formato datetime\n",
        "  formato_data = \"%d/%m/%Y\"\n",
        "  data_nascimento = datetime.strptime(data_nascimento_str, formato_data).date()\n",
        "\n",
        "  hoje = date.today()\n",
        "  idade = hoje.year - data_nascimento.year\n",
        "\n",
        "  # Ajusta a idade se o aniversário ainda não ocorreu neste ano\n",
        "  if (hoje.month, hoje.day) < (data_nascimento.month, data_nascimento.day):\n",
        "      idade -= 1\n",
        "\n",
        "  return idade"
      ],
      "metadata": {
        "id": "Zz8PV8gf166B"
      },
      "execution_count": null,
      "outputs": []
    },
    {
      "cell_type": "markdown",
      "source": [
        "Inicializando a aplicação"
      ],
      "metadata": {
        "id": "lEwEq-s1uSI5"
      }
    },
    {
      "cell_type": "code",
      "source": [
        "flag = 'Sim'\n",
        "\n",
        "while flag.lower() == 'sim':\n",
        "    userName = input(\"Informe o seu nome: \")\n",
        "    dataNasc = input(\"Informe a sua data de nascimento\")\n",
        "\n",
        "    idade = idade = calcular_idade(dataNasc)\n",
        "\n",
        "    print(f\"Tudo bem {userName}, você está com {idade} anos de idade\", \"\\n\")\n",
        "    print(\"Vamos coletar os resultados do exame\", \"\\n\")\n",
        "\n",
        "    #Informando os dados do exame\n",
        "\n",
        "    triglicerides = input(\"Qual foi o resultado do Triglicérides (mg/dl)? \")\n",
        "    colesterol_total = input(\"Qual foi o resultado do Colesterol Total (mg/dl)? \")\n",
        "    colesterol_hdl = input(\"Qual foi o resultado do Colesterol HDL (mg/dl)? \")\n",
        "    colesterol_ldl = input(\"Qual foi o resultado do Colesterol LDL (mg/dl)? \")\n",
        "    ureia = input(\"Qual foi o resultado da Uréia (mg/dl)? \")\n",
        "\n",
        "    #Preparando as perguntas para ao Google AI de acordo com os dados informados\n",
        "\n",
        "    pergunta1 = \"Meu nome é \" + userName + \", tenho \" + str(idade) + \" de idade, fiz exame de laboratório de bioquímica, \"\n",
        "    pergunta1 += \"o resultado do exame de triglicérides foi de \" + triglicerides + \" mg/dl, preciso dos \"\n",
        "    pergunta1 += \"valores de referência e qual o laudo de acordo com o valor obtido no meu exame.\"\n",
        "\n",
        "    pergunta2 = \"O resultado do exame de colesterol total foi de \" + colesterol_total\n",
        "    pergunta2 += \" mg/dl, preciso dos valores de referência e qual o laudo de acordo com o valor obtido no meu exame.\"\n",
        "\n",
        "    pergunta3 = \"O resultado do exame de colesterol HDL foi de \" + colesterol_hdl\n",
        "    pergunta3 += \" mg/dl, preciso dos valores de referência e qual o laudo de acordo com o valor obtido no meu exame.\"\n",
        "\n",
        "    pergunta4 = \"O resultado do exame de colesterol LDL foi de \" + colesterol_ldl\n",
        "    pergunta4 += \" mg/dl, preciso dos valores de referência e qual o laudo de acordo com o valor obtido no meu exame.\"\n",
        "\n",
        "    pergunta5 = \"O resultado do exame de uréia foi de \" + ureia\n",
        "    pergunta5 += \" mg/dl, preciso dos valores de referência e qual o laudo de acordo com o valor obtido no meu exame.\"\n",
        "\n",
        "\n",
        "    #Realizando a pesquisa no Google AI\n",
        "\n",
        "    print(\"Realizando a consulta, aguarde...\", \"\\n\")\n",
        "\n",
        "    resposta1 = chat.send_message(pergunta1)\n",
        "    resposta2 = chat.send_message(pergunta2)\n",
        "    resposta3 = chat.send_message(pergunta3)\n",
        "    resposta4 = chat.send_message(pergunta4)\n",
        "    resposta5 = chat.send_message(pergunta5)\n",
        "\n",
        "    #Informando ao usuário a resposta do Google AI\n",
        "\n",
        "    print(\"Resposta da consulta\", \"\\n\")\n",
        "\n",
        "    print('---------------------------------------------', '\\n')\n",
        "\n",
        "    print(\"--------------- Triglicérides ---------------\", \"\\n\")\n",
        "    print(resposta1.text, \"\\n\")\n",
        "\n",
        "    print(\"------------- Colesterol Total --------------\", \"\\n\")\n",
        "    print(resposta2.text, \"\\n\")\n",
        "\n",
        "    print(\"--------------- Colesterol HDL --------------\", \"\\n\")\n",
        "    print(resposta3.text, \"\\n\")\n",
        "\n",
        "    print(\"--------------- Colesterol LDL --------------\", \"\\n\")\n",
        "    print(resposta4.text, \"\\n\")\n",
        "\n",
        "    print(\"------------------- URÉIA -------------------\", \"\\n\")\n",
        "    print(resposta5.text, \"\\n\")\n",
        "\n",
        "    print('---------------------------------------------', '\\n')\n",
        "\n",
        "    resumo = chat.send_message(\"De acordo com o exame e os dados fornecidos, qual a sua opinião sobre o conjunto de dados, gostaria de um resumo?\")\n",
        "\n",
        "    print('--------- Resumo final da Análise -----------', '\\n')\n",
        "\n",
        "    print(resumo.text, \"\\n\")\n",
        "\n",
        "    print('------ Este é o final da Análise ------------', '\\n')\n",
        "\n",
        "    while True:\n",
        "        flag = input(\"Deseja iniciar uma nova análise (Sim/Não)? \")\n",
        "        if flag.lower() in ('sim', 'não'):\n",
        "            break\n",
        "        else:\n",
        "            print(\"Opção inválida. Por favor, digite 'Sim' ou 'Não'.\")\n",
        "\n",
        "    # Opcional: Converter a resposta para minúscula para padronização\n",
        "    flag = flag.lower()"
      ],
      "metadata": {
        "id": "jtzduRUZuWhQ"
      },
      "execution_count": null,
      "outputs": []
    }
  ]
}